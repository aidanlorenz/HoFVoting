{
 "cells": [
  {
   "cell_type": "code",
   "execution_count": 1,
   "id": "d024808a",
   "metadata": {},
   "outputs": [],
   "source": [
    "import numpy as np\n",
    "import pandas as pd  \n",
    "import seaborn as sns\n",
    "import matplotlib.pyplot as plt \n",
    "\n",
    "import xgboost as xgb\n",
    "\n",
    "from sklearn.model_selection import train_test_split, GridSearchCV"
   ]
  },
  {
   "cell_type": "code",
   "execution_count": 2,
   "id": "56f77473",
   "metadata": {},
   "outputs": [],
   "source": [
    "# Store a list of all the years for which BaseballReference has data.\n",
    "# Q: DO WE WANT TO USE ALL OF THESE YEARS? STANDARDS/STATS MIGHT HAVE CHANGED OVER TIME?\n",
    "# Q: SEPARATE PITCHERS AND CATCHERS?\n",
    "years = list(range(1936, 2023))\n",
    "years.remove(1940)\n",
    "years.remove(1941)\n",
    "years.remove(1943)\n",
    "years.remove(1944)\n",
    "years.remove(1957)\n",
    "years.remove(1959)\n",
    "years.remove(1961)\n",
    "years.remove(1963)\n",
    "years.remove(1965)"
   ]
  },
  {
   "cell_type": "code",
   "execution_count": 7,
   "id": "b96aa214",
   "metadata": {},
   "outputs": [],
   "source": [
    "import time\n",
    "dflist = [] # this is a list of all the dataframes from every year.\n",
    "for i in range(1966,2023):\n",
    "    url = 'https://www.baseball-reference.com/awards/hof_' + str(i) + '.shtml#all_hof_BBWAA'\n",
    "    dflist.append(pd.read_html(url, header = 1)[0])\n",
    "    time.sleep(5)"
   ]
  },
  {
   "cell_type": "code",
   "execution_count": 8,
   "id": "03814344",
   "metadata": {},
   "outputs": [],
   "source": [
    "all_data = pd.concat(dflist)"
   ]
  },
  {
   "cell_type": "code",
   "execution_count": 9,
   "id": "10825cc3",
   "metadata": {},
   "outputs": [],
   "source": [
    "all_data.to_csv('all_data.csv', index = False)"
   ]
  },
  {
   "cell_type": "code",
   "execution_count": null,
   "id": "447b746a",
   "metadata": {},
   "outputs": [],
   "source": []
  }
 ],
 "metadata": {
  "kernelspec": {
   "display_name": "Python 3",
   "language": "python",
   "name": "python3"
  },
  "language_info": {
   "codemirror_mode": {
    "name": "ipython",
    "version": 3
   },
   "file_extension": ".py",
   "mimetype": "text/x-python",
   "name": "python",
   "nbconvert_exporter": "python",
   "pygments_lexer": "ipython3",
   "version": "3.10.9"
  }
 },
 "nbformat": 4,
 "nbformat_minor": 5
}
